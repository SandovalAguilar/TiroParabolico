{
 "cells": [
  {
   "cell_type": "markdown",
   "metadata": {},
   "source": [
    "# Examen<img src=\"itesm2.png\" style=\"width: 90px;\" style=\"float: right;\"  align=\"right\"  margin-right= \"50px\"/>\n",
    "\n",
    "MA1031.1: Análisis Estadístico <br>\n",
    "Profra. Melissa Michel Salinas Espinosa <br> \n",
    "Ismael Sandoval Aguilar <br>\n",
    "11 de junio de 2020"
   ]
  },
  {
   "cell_type": "markdown",
   "metadata": {},
   "source": [
    "###  Escenario 1 "
   ]
  },
  {
   "cell_type": "code",
   "execution_count": 1,
   "metadata": {},
   "outputs": [
    {
     "data": {
      "text/html": [
       "<table>\n",
       "<caption>A data.frame: 24 × 2</caption>\n",
       "<thead>\n",
       "\t<tr><th scope=col>Mes</th><th scope=col>Demanda</th></tr>\n",
       "\t<tr><th scope=col>&lt;int&gt;</th><th scope=col>&lt;int&gt;</th></tr>\n",
       "</thead>\n",
       "<tbody>\n",
       "\t<tr><td> 1</td><td>165</td></tr>\n",
       "\t<tr><td> 2</td><td>201</td></tr>\n",
       "\t<tr><td> 3</td><td>239</td></tr>\n",
       "\t<tr><td> 4</td><td>216</td></tr>\n",
       "\t<tr><td> 5</td><td>251</td></tr>\n",
       "\t<tr><td> 6</td><td>269</td></tr>\n",
       "\t<tr><td> 7</td><td>299</td></tr>\n",
       "\t<tr><td> 8</td><td>332</td></tr>\n",
       "\t<tr><td> 9</td><td>357</td></tr>\n",
       "\t<tr><td>10</td><td>410</td></tr>\n",
       "\t<tr><td>11</td><td>603</td></tr>\n",
       "\t<tr><td>12</td><td>449</td></tr>\n",
       "\t<tr><td>13</td><td>479</td></tr>\n",
       "\t<tr><td>14</td><td>569</td></tr>\n",
       "\t<tr><td>15</td><td>623</td></tr>\n",
       "\t<tr><td>16</td><td>591</td></tr>\n",
       "\t<tr><td>17</td><td>585</td></tr>\n",
       "\t<tr><td>18</td><td>702</td></tr>\n",
       "\t<tr><td>19</td><td>775</td></tr>\n",
       "\t<tr><td>20</td><td>652</td></tr>\n",
       "\t<tr><td>21</td><td>586</td></tr>\n",
       "\t<tr><td>22</td><td>760</td></tr>\n",
       "\t<tr><td>23</td><td>788</td></tr>\n",
       "\t<tr><td>24</td><td>817</td></tr>\n",
       "</tbody>\n",
       "</table>\n"
      ],
      "text/latex": [
       "A data.frame: 24 × 2\n",
       "\\begin{tabular}{ll}\n",
       " Mes & Demanda\\\\\n",
       " <int> & <int>\\\\\n",
       "\\hline\n",
       "\t  1 & 165\\\\\n",
       "\t  2 & 201\\\\\n",
       "\t  3 & 239\\\\\n",
       "\t  4 & 216\\\\\n",
       "\t  5 & 251\\\\\n",
       "\t  6 & 269\\\\\n",
       "\t  7 & 299\\\\\n",
       "\t  8 & 332\\\\\n",
       "\t  9 & 357\\\\\n",
       "\t 10 & 410\\\\\n",
       "\t 11 & 603\\\\\n",
       "\t 12 & 449\\\\\n",
       "\t 13 & 479\\\\\n",
       "\t 14 & 569\\\\\n",
       "\t 15 & 623\\\\\n",
       "\t 16 & 591\\\\\n",
       "\t 17 & 585\\\\\n",
       "\t 18 & 702\\\\\n",
       "\t 19 & 775\\\\\n",
       "\t 20 & 652\\\\\n",
       "\t 21 & 586\\\\\n",
       "\t 22 & 760\\\\\n",
       "\t 23 & 788\\\\\n",
       "\t 24 & 817\\\\\n",
       "\\end{tabular}\n"
      ],
      "text/markdown": [
       "\n",
       "A data.frame: 24 × 2\n",
       "\n",
       "| Mes &lt;int&gt; | Demanda &lt;int&gt; |\n",
       "|---|---|\n",
       "|  1 | 165 |\n",
       "|  2 | 201 |\n",
       "|  3 | 239 |\n",
       "|  4 | 216 |\n",
       "|  5 | 251 |\n",
       "|  6 | 269 |\n",
       "|  7 | 299 |\n",
       "|  8 | 332 |\n",
       "|  9 | 357 |\n",
       "| 10 | 410 |\n",
       "| 11 | 603 |\n",
       "| 12 | 449 |\n",
       "| 13 | 479 |\n",
       "| 14 | 569 |\n",
       "| 15 | 623 |\n",
       "| 16 | 591 |\n",
       "| 17 | 585 |\n",
       "| 18 | 702 |\n",
       "| 19 | 775 |\n",
       "| 20 | 652 |\n",
       "| 21 | 586 |\n",
       "| 22 | 760 |\n",
       "| 23 | 788 |\n",
       "| 24 | 817 |\n",
       "\n"
      ],
      "text/plain": [
       "   Mes Demanda\n",
       "1   1  165    \n",
       "2   2  201    \n",
       "3   3  239    \n",
       "4   4  216    \n",
       "5   5  251    \n",
       "6   6  269    \n",
       "7   7  299    \n",
       "8   8  332    \n",
       "9   9  357    \n",
       "10 10  410    \n",
       "11 11  603    \n",
       "12 12  449    \n",
       "13 13  479    \n",
       "14 14  569    \n",
       "15 15  623    \n",
       "16 16  591    \n",
       "17 17  585    \n",
       "18 18  702    \n",
       "19 19  775    \n",
       "20 20  652    \n",
       "21 21  586    \n",
       "22 22  760    \n",
       "23 23  788    \n",
       "24 24  817    "
      ]
     },
     "metadata": {},
     "output_type": "display_data"
    }
   ],
   "source": [
    "#Lectura del archivo\n",
    "dataset1 = read.csv('dataset1.csv')\n",
    "dataset1"
   ]
  },
  {
   "cell_type": "code",
   "execution_count": 68,
   "metadata": {},
   "outputs": [],
   "source": [
    "#Librerias necesarias\n",
    "library(forecast)\n",
    "library(fpp2)\n",
    "library(greybox)\n",
    "library(smooth)"
   ]
  },
  {
   "cell_type": "code",
   "execution_count": 2,
   "metadata": {},
   "outputs": [],
   "source": [
    "#Creacion del vector\n",
    "v_demanda = as.vector(dataset1$Demanda)"
   ]
  },
  {
   "cell_type": "code",
   "execution_count": 3,
   "metadata": {},
   "outputs": [],
   "source": [
    "#Serie de tiempo\n",
    "ts1 = ts(v_demanda, start=1, end=length(dataset1$Mes))"
   ]
  },
  {
   "cell_type": "code",
   "execution_count": 71,
   "metadata": {},
   "outputs": [],
   "source": [
    "#Modelo de mediana movil simple donde N = order\n",
    "media_movil1 = sma(ts1, order=4)"
   ]
  },
  {
   "cell_type": "code",
   "execution_count": 81,
   "metadata": {},
   "outputs": [
    {
     "data": {
      "text/html": [
       "<table>\n",
       "<caption>A data.frame: 6 × 1</caption>\n",
       "<thead>\n",
       "\t<tr><th></th><th scope=col>Series 1</th></tr>\n",
       "\t<tr><th></th><th scope=col>&lt;dbl&gt;</th></tr>\n",
       "</thead>\n",
       "<tbody>\n",
       "\t<tr><th scope=row>1</th><td>205.2500</td></tr>\n",
       "\t<tr><th scope=row>2</th><td>195.1875</td></tr>\n",
       "\t<tr><th scope=row>3</th><td>194.1250</td></tr>\n",
       "\t<tr><th scope=row>4</th><td>202.5625</td></tr>\n",
       "\t<tr><th scope=row>5</th><td>205.2500</td></tr>\n",
       "\t<tr><th scope=row>6</th><td>226.7500</td></tr>\n",
       "</tbody>\n",
       "</table>\n"
      ],
      "text/latex": [
       "A data.frame: 6 × 1\n",
       "\\begin{tabular}{r|l}\n",
       "  & Series 1\\\\\n",
       "  & <dbl>\\\\\n",
       "\\hline\n",
       "\t1 & 205.2500\\\\\n",
       "\t2 & 195.1875\\\\\n",
       "\t3 & 194.1250\\\\\n",
       "\t4 & 202.5625\\\\\n",
       "\t5 & 205.2500\\\\\n",
       "\t6 & 226.7500\\\\\n",
       "\\end{tabular}\n"
      ],
      "text/markdown": [
       "\n",
       "A data.frame: 6 × 1\n",
       "\n",
       "| <!--/--> | Series 1 &lt;dbl&gt; |\n",
       "|---|---|\n",
       "| 1 | 205.2500 |\n",
       "| 2 | 195.1875 |\n",
       "| 3 | 194.1250 |\n",
       "| 4 | 202.5625 |\n",
       "| 5 | 205.2500 |\n",
       "| 6 | 226.7500 |\n",
       "\n"
      ],
      "text/plain": [
       "  Series 1\n",
       "1 205.2500\n",
       "2 195.1875\n",
       "3 194.1250\n",
       "4 202.5625\n",
       "5 205.2500\n",
       "6 226.7500"
      ]
     },
     "metadata": {},
     "output_type": "display_data"
    }
   ],
   "source": [
    "output_sma = as.data.frame(fitted(media_movil1))\n",
    "head(output_sma)"
   ]
  },
  {
   "cell_type": "code",
   "execution_count": 19,
   "metadata": {},
   "outputs": [],
   "source": [
    "#Realizamos nuestro suavizamiento exponencial simple con alpha = 0.15\n",
    "fit_ses1 = ses(ts1, h=6, initial='simple', alpha=0.15)"
   ]
  },
  {
   "cell_type": "code",
   "execution_count": 20,
   "metadata": {},
   "outputs": [
    {
     "data": {
      "text/plain": [
       "   Point Forecast    Lo 80    Hi 80    Lo 95    Hi 95\n",
       "25       653.6043 451.6862 855.5224 344.7972 962.4114\n",
       "26       653.6043 449.4273 857.7814 341.3425 965.8662\n",
       "27       653.6043 447.1931 860.0156 337.9255 969.2831\n",
       "28       653.6043 444.9828 862.2259 334.5452 972.6635\n",
       "29       653.6043 442.7956 864.4130 331.2003 976.0084\n",
       "30       653.6043 440.6310 866.5777 327.8897 979.3190"
      ]
     },
     "metadata": {},
     "output_type": "display_data"
    }
   ],
   "source": [
    "#Pronosticos\n",
    "forecast(fit_ses1)"
   ]
  },
  {
   "cell_type": "code",
   "execution_count": 21,
   "metadata": {},
   "outputs": [
    {
     "name": "stdout",
     "output_type": "stream",
     "text": [
      "\n",
      "Forecast method: Simple exponential smoothing\n",
      "\n",
      "Model Information:\n",
      "Simple exponential smoothing \n",
      "\n",
      "Call:\n",
      " ses(y = ts1, h = 6, initial = \"simple\", alpha = 0.15) \n",
      "\n",
      "  Smoothing parameters:\n",
      "    alpha = 0.15 \n",
      "\n",
      "  Initial states:\n",
      "    l = 165 \n",
      "\n",
      "  sigma:  157.5575\n",
      "Error measures:\n",
      "                   ME     RMSE      MAE      MPE     MAPE     MASE      ACF1\n",
      "Training set 135.7234 157.5575 135.7234 26.76901 26.76901 2.138109 0.4073382\n",
      "\n",
      "Forecasts:\n",
      "   Point Forecast    Lo 80    Hi 80    Lo 95    Hi 95\n",
      "25       653.6043 451.6862 855.5224 344.7972 962.4114\n",
      "26       653.6043 449.4273 857.7814 341.3425 965.8662\n",
      "27       653.6043 447.1931 860.0156 337.9255 969.2831\n",
      "28       653.6043 444.9828 862.2259 334.5452 972.6635\n",
      "29       653.6043 442.7956 864.4130 331.2003 976.0084\n",
      "30       653.6043 440.6310 866.5777 327.8897 979.3190\n"
     ]
    }
   ],
   "source": [
    "#Errores\n",
    "summary(fit_ses1)"
   ]
  },
  {
   "cell_type": "code",
   "execution_count": 24,
   "metadata": {},
   "outputs": [
    {
     "data": {
      "text/html": [
       "24824.36580625"
      ],
      "text/latex": [
       "24824.36580625"
      ],
      "text/markdown": [
       "24824.36580625"
      ],
      "text/plain": [
       "[1] 24824.37"
      ]
     },
     "metadata": {},
     "output_type": "display_data"
    }
   ],
   "source": [
    "#MSE\n",
    "MSE_1 = 157.5575**2\n",
    "MSE_1"
   ]
  },
  {
   "cell_type": "code",
   "execution_count": 27,
   "metadata": {},
   "outputs": [
    {
     "data": {
      "image/png": "[encoded data removed]",
      "text/plain": [
       "plot without title"
      ]
     },
     "metadata": {
      "image/png": {
       "height": 420,
       "width": 420
      },
      "text/plain": {
       "height": 420,
       "width": 420
      }
     },
     "output_type": "display_data"
    }
   ],
   "source": [
    "#Grafica\n",
    "plot(v_demanda, type='o', xlab='Meses', ylab='Demanda')"
   ]
  },
  {
   "cell_type": "code",
   "execution_count": 89,
   "metadata": {},
   "outputs": [],
   "source": [
    "#Modelo exponencial doble cuando alfa = 0.20 y beta = 0.05\n",
    "fit_ses2 = ses(ts1, h=6, initial='simple', alpha=0.20, beta=0.05, i=157.5, b=19.1)"
   ]
  },
  {
   "cell_type": "code",
   "execution_count": 92,
   "metadata": {},
   "outputs": [
    {
     "data": {
      "text/html": [
       "<table>\n",
       "<caption>A data.frame: 6 × 1</caption>\n",
       "<thead>\n",
       "\t<tr><th></th><th scope=col>x</th></tr>\n",
       "\t<tr><th></th><th scope=col>&lt;dbl&gt;</th></tr>\n",
       "</thead>\n",
       "<tbody>\n",
       "\t<tr><th scope=row>1</th><td>165.0000</td></tr>\n",
       "\t<tr><th scope=row>2</th><td>165.0000</td></tr>\n",
       "\t<tr><th scope=row>3</th><td>172.2000</td></tr>\n",
       "\t<tr><th scope=row>4</th><td>185.5600</td></tr>\n",
       "\t<tr><th scope=row>5</th><td>191.6480</td></tr>\n",
       "\t<tr><th scope=row>6</th><td>203.5184</td></tr>\n",
       "</tbody>\n",
       "</table>\n"
      ],
      "text/latex": [
       "A data.frame: 6 × 1\n",
       "\\begin{tabular}{r|l}\n",
       "  & x\\\\\n",
       "  & <dbl>\\\\\n",
       "\\hline\n",
       "\t1 & 165.0000\\\\\n",
       "\t2 & 165.0000\\\\\n",
       "\t3 & 172.2000\\\\\n",
       "\t4 & 185.5600\\\\\n",
       "\t5 & 191.6480\\\\\n",
       "\t6 & 203.5184\\\\\n",
       "\\end{tabular}\n"
      ],
      "text/markdown": [
       "\n",
       "A data.frame: 6 × 1\n",
       "\n",
       "| <!--/--> | x &lt;dbl&gt; |\n",
       "|---|---|\n",
       "| 1 | 165.0000 |\n",
       "| 2 | 165.0000 |\n",
       "| 3 | 172.2000 |\n",
       "| 4 | 185.5600 |\n",
       "| 5 | 191.6480 |\n",
       "| 6 | 203.5184 |\n",
       "\n"
      ],
      "text/plain": [
       "  x       \n",
       "1 165.0000\n",
       "2 165.0000\n",
       "3 172.2000\n",
       "4 185.5600\n",
       "5 191.6480\n",
       "6 203.5184"
      ]
     },
     "metadata": {},
     "output_type": "display_data"
    }
   ],
   "source": [
    "output_ses2 = as.data.frame(fitted(fit_ses2))\n",
    "head(output_ses2)"
   ]
  },
  {
   "cell_type": "code",
   "execution_count": 93,
   "metadata": {},
   "outputs": [
    {
     "data": {
      "text/plain": [
       "   Point Forecast    Lo 80    Hi 80    Lo 95    Hi 95\n",
       "25       695.3503 526.1921 864.5084 436.6451 954.0554\n",
       "26       695.3503 522.8421 867.8584 431.5218 959.1787\n",
       "27       695.3503 519.5559 871.1446 426.4960 964.2045\n",
       "28       695.3503 516.3301 874.3704 421.5625 969.1380\n",
       "29       695.3503 513.1613 877.5392 416.7163 973.9842\n",
       "30       695.3503 510.0468 880.6538 411.9530 978.7475"
      ]
     },
     "metadata": {},
     "output_type": "display_data"
    }
   ],
   "source": [
    "forecast(fit_ses2)"
   ]
  },
  {
   "cell_type": "code",
   "execution_count": 37,
   "metadata": {},
   "outputs": [
    {
     "name": "stdout",
     "output_type": "stream",
     "text": [
      "\n",
      "Forecast method: Simple exponential smoothing\n",
      "\n",
      "Model Information:\n",
      "Simple exponential smoothing \n",
      "\n",
      "Call:\n",
      " ses(y = ts1, h = 6, initial = \"simple\", alpha = 0.2, beta = 0.05) \n",
      "\n",
      "  Smoothing parameters:\n",
      "    alpha = 0.2 \n",
      "\n",
      "  Initial states:\n",
      "    l = 165 \n",
      "\n",
      "  sigma:  131.9948\n",
      "Error measures:\n",
      "                   ME     RMSE      MAE      MPE     MAPE    MASE      ACF1\n",
      "Training set 110.4896 131.9948 112.2308 22.25342 22.55055 1.76802 0.2743356\n",
      "\n",
      "Forecasts:\n",
      "   Point Forecast    Lo 80    Hi 80    Lo 95    Hi 95\n",
      "25       695.3503 526.1921 864.5084 436.6451 954.0554\n",
      "26       695.3503 522.8421 867.8584 431.5218 959.1787\n",
      "27       695.3503 519.5559 871.1446 426.4960 964.2045\n",
      "28       695.3503 516.3301 874.3704 421.5625 969.1380\n",
      "29       695.3503 513.1613 877.5392 416.7163 973.9842\n",
      "30       695.3503 510.0468 880.6538 411.9530 978.7475\n"
     ]
    }
   ],
   "source": [
    "summary(fit_ses2)"
   ]
  },
  {
   "cell_type": "code",
   "execution_count": 41,
   "metadata": {},
   "outputs": [
    {
     "data": {
      "text/html": [
       "17422.62722704"
      ],
      "text/latex": [
       "17422.62722704"
      ],
      "text/markdown": [
       "17422.62722704"
      ],
      "text/plain": [
       "[1] 17422.63"
      ]
     },
     "metadata": {},
     "output_type": "display_data"
    }
   ],
   "source": [
    "MSE_2 = 131.9948 ** 2\n",
    "MSE_2"
   ]
  },
  {
   "cell_type": "code",
   "execution_count": 84,
   "metadata": {},
   "outputs": [],
   "source": [
    "#Modelo exponencial doble cuando alfa = 0.99 y beta = 0.05\n",
    "fit_ses3 = ses(ts1, h=6, initial='simple', alpha=0.99, beta=0.05)"
   ]
  },
  {
   "cell_type": "code",
   "execution_count": 51,
   "metadata": {},
   "outputs": [],
   "source": [
    "output_ses3 = as.vector(fitted(fit_ses3))"
   ]
  },
  {
   "cell_type": "code",
   "execution_count": 55,
   "metadata": {},
   "outputs": [
    {
     "data": {
      "image/png": "[encoded data removed]",
      "text/plain": [
       "plot without title"
      ]
     },
     "metadata": {
      "image/png": {
       "height": 420,
       "width": 420
      },
      "text/plain": {
       "height": 420,
       "width": 420
      }
     },
     "output_type": "display_data"
    }
   ],
   "source": [
    "plot(output_ses3, type='l')\n",
    "lines(v_demanda)"
   ]
  },
  {
   "cell_type": "code",
   "execution_count": 56,
   "metadata": {},
   "outputs": [
    {
     "data": {
      "image/png": "[encoded data removed]",
      "text/plain": [
       "Plot with title \"Forecasts from Simple exponential smoothing\""
      ]
     },
     "metadata": {
      "image/png": {
       "height": 420,
       "width": 420
      },
      "text/plain": {
       "height": 420,
       "width": 420
      }
     },
     "output_type": "display_data"
    }
   ],
   "source": [
    "plot(fit_ses3)"
   ]
  },
  {
   "cell_type": "code",
   "execution_count": 58,
   "metadata": {},
   "outputs": [],
   "source": [
    "#Modelo exponencial doble cuando alfa = 0.01 y beta = 0.05\n",
    "fit_ses4 = ses(ts1, h=6, initial='simple', alpha=0.01, beta=0.05)"
   ]
  },
  {
   "cell_type": "code",
   "execution_count": 60,
   "metadata": {},
   "outputs": [],
   "source": [
    "output_ses4 = as.vector(fitted(fit_ses4))"
   ]
  },
  {
   "cell_type": "code",
   "execution_count": 64,
   "metadata": {},
   "outputs": [
    {
     "data": {
      "image/png": "[encoded data removed]",
      "text/plain": [
       "plot without title"
      ]
     },
     "metadata": {
      "image/png": {
       "height": 420,
       "width": 420
      },
      "text/plain": {
       "height": 420,
       "width": 420
      }
     },
     "output_type": "display_data"
    }
   ],
   "source": [
    "plot(output_ses4, type='l')"
   ]
  }
 ],
 "metadata": {
  "kernelspec": {
   "display_name": "R",
   "language": "R",
   "name": "ir"
  },
  "language_info": {
   "codemirror_mode": "r",
   "file_extension": ".r",
   "mimetype": "text/x-r-source",
   "name": "R",
   "pygments_lexer": "r",
   "version": "4.0.0"
  }
 },
 "nbformat": 4,
 "nbformat_minor": 4
}
