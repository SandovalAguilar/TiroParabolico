{
 "cells": [
  {
   "cell_type": "markdown",
   "id": "a6a2f31e",
   "metadata": {},
   "source": [
    "Metodología "
   ]
  },
  {
   "cell_type": "code",
   "execution_count": 10,
   "id": "3e458b32",
   "metadata": {},
   "outputs": [],
   "source": [
    "import numpy as np\n",
    "import matplotlib.pyplot as plt\n",
    "import math\n",
    "import pandas as pd"
   ]
  },
  {
   "cell_type": "code",
   "execution_count": 11,
   "id": "33911d45",
   "metadata": {},
   "outputs": [],
   "source": [
    "#Variables constantes y listas\n",
    "v = 38.5\n",
    "g = 9.80665\n",
    "theta = 0\n",
    "theta_lista = []\n",
    "xmax_lista = []\n",
    "resultado = 0"
   ]
  },
  {
   "cell_type": "code",
   "execution_count": 12,
   "id": "42df2bae",
   "metadata": {},
   "outputs": [],
   "source": [
    "def x_max(v, theta, g):\n",
    "    ecuacion = (np.sin(np.deg2rad(2 * theta)) * v ** 2)/ (g) \n",
    "    return ecuacion"
   ]
  },
  {
   "cell_type": "code",
   "execution_count": 13,
   "id": "d5fb16e1",
   "metadata": {},
   "outputs": [],
   "source": [
    "while theta < 90:\n",
    "    resultado = x_max(v, theta, g)\n",
    "    xmax_lista.append(resultado)\n",
    "    theta_lista.append(theta)\n",
    "    theta += 1"
   ]
  },
  {
   "cell_type": "markdown",
   "id": "ca2c0dab",
   "metadata": {},
   "source": [
    "Resultados"
   ]
  },
  {
   "cell_type": "code",
   "execution_count": 14,
   "id": "855c5290",
   "metadata": {
    "scrolled": false
   },
   "outputs": [
    {
     "data": {
      "text/html": [
       "<div>\n",
       "<style scoped>\n",
       "    .dataframe tbody tr th:only-of-type {\n",
       "        vertical-align: middle;\n",
       "    }\n",
       "\n",
       "    .dataframe tbody tr th {\n",
       "        vertical-align: top;\n",
       "    }\n",
       "\n",
       "    .dataframe thead th {\n",
       "        text-align: right;\n",
       "    }\n",
       "</style>\n",
       "<table border=\"1\" class=\"dataframe\">\n",
       "  <thead>\n",
       "    <tr style=\"text-align: right;\">\n",
       "      <th></th>\n",
       "      <th>Ángulo</th>\n",
       "      <th>Alcance</th>\n",
       "    </tr>\n",
       "  </thead>\n",
       "  <tbody>\n",
       "    <tr>\n",
       "      <th>0</th>\n",
       "      <td>0</td>\n",
       "      <td>0.000000</td>\n",
       "    </tr>\n",
       "    <tr>\n",
       "      <th>1</th>\n",
       "      <td>1</td>\n",
       "      <td>5.274969</td>\n",
       "    </tr>\n",
       "    <tr>\n",
       "      <th>2</th>\n",
       "      <td>2</td>\n",
       "      <td>10.543512</td>\n",
       "    </tr>\n",
       "    <tr>\n",
       "      <th>3</th>\n",
       "      <td>3</td>\n",
       "      <td>15.799209</td>\n",
       "    </tr>\n",
       "    <tr>\n",
       "      <th>4</th>\n",
       "      <td>4</td>\n",
       "      <td>21.035657</td>\n",
       "    </tr>\n",
       "    <tr>\n",
       "      <th>...</th>\n",
       "      <td>...</td>\n",
       "      <td>...</td>\n",
       "    </tr>\n",
       "    <tr>\n",
       "      <th>85</th>\n",
       "      <td>85</td>\n",
       "      <td>26.246477</td>\n",
       "    </tr>\n",
       "    <tr>\n",
       "      <th>86</th>\n",
       "      <td>86</td>\n",
       "      <td>21.035657</td>\n",
       "    </tr>\n",
       "    <tr>\n",
       "      <th>87</th>\n",
       "      <td>87</td>\n",
       "      <td>15.799209</td>\n",
       "    </tr>\n",
       "    <tr>\n",
       "      <th>88</th>\n",
       "      <td>88</td>\n",
       "      <td>10.543512</td>\n",
       "    </tr>\n",
       "    <tr>\n",
       "      <th>89</th>\n",
       "      <td>89</td>\n",
       "      <td>5.274969</td>\n",
       "    </tr>\n",
       "  </tbody>\n",
       "</table>\n",
       "<p>90 rows × 2 columns</p>\n",
       "</div>"
      ],
      "text/plain": [
       "    Ángulo    Alcance\n",
       "0        0   0.000000\n",
       "1        1   5.274969\n",
       "2        2  10.543512\n",
       "3        3  15.799209\n",
       "4        4  21.035657\n",
       "..     ...        ...\n",
       "85      85  26.246477\n",
       "86      86  21.035657\n",
       "87      87  15.799209\n",
       "88      88  10.543512\n",
       "89      89   5.274969\n",
       "\n",
       "[90 rows x 2 columns]"
      ]
     },
     "execution_count": 14,
     "metadata": {},
     "output_type": "execute_result"
    }
   ],
   "source": [
    "df = pd.DataFrame({'Ángulo':theta_lista, 'Alcance':xmax_lista})\n",
    "df"
   ]
  },
  {
   "cell_type": "code",
   "execution_count": 30,
   "id": "fbcf2861",
   "metadata": {},
   "outputs": [
    {
     "data": {
      "text/plain": [
       "<AxesSubplot:xlabel='Ángulo', ylabel='Alcance'>"
      ]
     },
     "execution_count": 30,
     "metadata": {},
     "output_type": "execute_result"
    },
    {
     "data": {
      "image/png": "[encoded data removed]",
      "text/plain": [
       "<Figure size 432x288 with 1 Axes>"
      ]
     },
     "metadata": {
      "needs_background": "light"
     },
     "output_type": "display_data"
    }
   ],
   "source": [
    "df.plot('Ángulo', 'Alcance', kind='scatter')"
   ]
  },
  {
   "cell_type": "markdown",
   "id": "dcb35642",
   "metadata": {},
   "source": [
    "Análisis"
   ]
  },
  {
   "cell_type": "code",
   "execution_count": 39,
   "id": "ba3d5367",
   "metadata": {},
   "outputs": [
    {
     "data": {
      "text/plain": [
       "Ángulo     89\n",
       "Alcance    45\n",
       "dtype: int64"
      ]
     },
     "execution_count": 39,
     "metadata": {},
     "output_type": "execute_result"
    }
   ],
   "source": [
    "df.idxmax(axis=0)"
   ]
  },
  {
   "cell_type": "code",
   "execution_count": 40,
   "id": "024efb72",
   "metadata": {},
   "outputs": [
    {
     "data": {
      "text/plain": [
       "Ángulo      89.000000\n",
       "Alcance    151.147436\n",
       "dtype: float64"
      ]
     },
     "execution_count": 40,
     "metadata": {},
     "output_type": "execute_result"
    }
   ],
   "source": [
    "df.max(axis=0)"
   ]
  }
 ],
 "metadata": {
  "kernelspec": {
   "display_name": "Python 3 (ipykernel)",
   "language": "python",
   "name": "python3"
  },
  "language_info": {
   "codemirror_mode": {
    "name": "ipython",
    "version": 3
   },
   "file_extension": ".py",
   "mimetype": "text/x-python",
   "name": "python",
   "nbconvert_exporter": "python",
   "pygments_lexer": "ipython3",
   "version": "3.8.10"
  }
 },
 "nbformat": 4,
 "nbformat_minor": 5
}
