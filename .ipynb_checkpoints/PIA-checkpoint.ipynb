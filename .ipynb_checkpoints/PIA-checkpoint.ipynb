{
 "cells": [
  {
   "cell_type": "markdown",
   "id": "24c1bb9a",
   "metadata": {},
   "source": [
    "# Optimización de Tiro Parabólico <img src=\"fcfm.png\" style=\"width: 80px;\" style=\"float: right;\"  align=\"right\"  margin-right= \"50px\"/>\n",
    "*Sobre la busqueda de ángulos optimos para un proyectil bidimensional*\n",
    "\n",
    "A2021 016 Física Básica\n",
    "\n",
    "Dr. Valentín Guzmán Ramos \n",
    "\n",
    "Ismael Sandoval Aguilar \n",
    "\n",
    "19 de noviembre de 2021 \n",
    "\n",
    "Grupo 016 "
   ]
  },
  {
   "cell_type": "markdown",
   "id": "bbbd9cc1",
   "metadata": {},
   "source": [
    "### **Introducción**\n",
    "\n",
    "Desde la antigüedad, el estudio de la naturaleza del movimiento ha sido de gran interés para los pensadores y científicos; ya sea por motivos prácticos, como la construcción de edificaciones, o motivos meramente académicos, profundamente alimentados por la curiosidad intelectual. Pues bien, este último caso alimenta nuestra necesidad por resolver la cuestión siguiente: dadas las condiciones iniciales de un proyectil en dos dimensiones, encontrar, mediante métodos matemáticos, el ángulo en el que este alcanza su distancia horizontal máxima. Es decir: optimizar el tiro parabólico. \n",
    "\n",
    "**Conociendo las ecuaciones que modelan el tiro parabólico, es posible derivar una expresión matemática en donde el proyectil alcance su distancia horizontal máxima**. Sin embargo, dada la naturaleza empírica de este fenómeno, es necesario comprobar experimentalmente si dicho planteamiento matemático refleja totalmente lo que ocurre en la realidad; es decir, si la predicción concuerda. Para ello, plantearemos dicha ecuación y, a través de métodos numéricos desarrollados en Python, realizaremos una simulación del proyectil en la que se comprobará, *por fuerza bruta*, qué ángulo es el más óptimo. "
   ]
  },
  {
   "cell_type": "markdown",
   "id": "bec8366b",
   "metadata": {},
   "source": []
  },
  {
   "cell_type": "markdown",
   "id": "ec1ce673",
   "metadata": {},
   "source": [
    "### **Marco teórico**"
   ]
  },
  {
   "cell_type": "markdown",
   "id": "416b6fe1",
   "metadata": {},
   "source": [
    "Las ecuaciones siguientes permiten modelar el movimiento de un proyectil a partir de dos suposiciones: la aceleración de caída libre es constante en el intervalo de movimiento y este se dirige hacia abajo, aunado a que el efecto de la resistencia del aire es despreciable. Con estas suposiciones, se encuentra que la trayectoria de un proyectil siempre es una parábola. De modo que, la expresión para el vector de posición del proyectil como función del tiempo es: \n"
   ]
  },
  {
   "cell_type": "markdown",
   "id": "5545fa0d",
   "metadata": {},
   "source": [
    "$$\\vec{r}_{f}=\\vec{r}_{i}+\\vec{v}_{i}t+\\frac{1}{2}\\vec{g}t^2$$"
   ]
  },
  {
   "cell_type": "markdown",
   "id": "96175cec",
   "metadata": {},
   "source": [
    "Donde las componentes de $x$ y $y$ de la velocidad inicial del proyectil son:\n"
   ]
  },
  {
   "cell_type": "markdown",
   "id": "90d2a87e",
   "metadata": {},
   "source": [
    "$$v_{xi}=v_{i}cos\\theta_{i}, v_{yi}=v_{i}sen\\theta_{i}$$"
   ]
  },
  {
   "cell_type": "markdown",
   "id": "099e2823",
   "metadata": {},
   "source": [
    "De lo anterior se derivan múltiples ecuaciones para calcular el tiempo de vuelo, el alcance máximo y la altura máxima. En este caso estamos particularmente interesados en conocer el alcance y la altura máxima. De modo que, para el alcance máximo: "
   ]
  },
  {
   "cell_type": "markdown",
   "id": "b52fabc7",
   "metadata": {},
   "source": [
    "$$x=v_{0x}t=v_{0}cos\\theta\\frac{2v_{0}sen\\theta}{g}=\\frac{2v^{2}_{0}sen\n",
    "\\theta cos\\theta}{g}$$"
   ]
  },
  {
   "cell_type": "markdown",
   "id": "22214ade",
   "metadata": {},
   "source": [
    "Utilizando la relación trigonométrica $sen2\\theta=2sen\\theta cos\\theta$, resulta:"
   ]
  },
  {
   "cell_type": "markdown",
   "id": "b4cd52ee",
   "metadata": {},
   "source": [
    "$$\\therefore x_{max}=\\frac{v^{2}_{0}sen2\\theta}{g}$$"
   ]
  },
  {
   "cell_type": "markdown",
   "id": "7a658064",
   "metadata": {},
   "source": [
    "Por otra parte, para la altura máxima tenemos que esta se alcanza cuando \n",
    "$v_y=0$, es decir: $v_{0y}-gt=0$. Entonces:"
   ]
  },
  {
   "cell_type": "markdown",
   "id": "4916926b",
   "metadata": {},
   "source": [
    "$$t=\\frac{v_{0y}}{g}=\\frac{v_{0y}sen\\theta}{g}$$"
   ]
  },
  {
   "cell_type": "markdown",
   "id": "6dd318e3",
   "metadata": {},
   "source": [
    "Sustituyendo este valor en la ecuación inicial de la posición del proyectil:"
   ]
  },
  {
   "cell_type": "markdown",
   "id": "68cc17e5",
   "metadata": {},
   "source": [
    "$$y=v_{0y}t-\\frac{1}{2}gt^2=\\frac{v^2_{0}sen^2\\theta}{g}\n",
    "-\\frac{v^2_{0}sen^2\\theta}{2g}$$"
   ]
  },
  {
   "cell_type": "markdown",
   "id": "59367f68",
   "metadata": {},
   "source": [
    "$$\\therefore y_{max}=\\frac{v^2_{0}sen^2\\theta}{2g} \\hspace{5mm} donde \\hspace{5mm} g=9,80665 m/s^2$$"
   ]
  },
  {
   "cell_type": "markdown",
   "id": "a9c73a6d",
   "metadata": {},
   "source": [
    "Dado que tratamos de buscar un ángulo $\\theta$ óptimo en el que se obtenga el mayor alcance posible, consideraremos las variables siguientes:\n",
    "\n",
    ">La variable independiente es el ángulo $\\theta$, en grados. Esta será manipulada en incrementos ($\\Delta \\theta$) de un grado. \n",
    "\n",
    "Mientras que:\n",
    "\n",
    ">La variable dependiente es la altura $x_{max}$, en metros. \n",
    "\n",
    "Por último:\n",
    ">Las variables de control son la velocidad inicial $v_0$, la aceleración estándar debida a la gravedad $g$ y nuestra simulación.\n",
    "\n",
    "Entonces, con ello determinaremos **si es posible determinar matemáticamente el ángulo óptimo de un proyectil para alcanzar la el mayor alcance posible.**"
   ]
  },
  {
   "cell_type": "markdown",
   "id": "acb65f99",
   "metadata": {},
   "source": []
  },
  {
   "cell_type": "markdown",
   "id": "e51cce31",
   "metadata": {},
   "source": [
    "### **Hipótesis**"
   ]
  },
  {
   "cell_type": "markdown",
   "id": "d78dbc8c",
   "metadata": {},
   "source": [
    "Para obtener el ángulo óptimo, es necesario encontrar el máximo de nuestra función $x_{max}(\\theta)$  donde la distancia es mayor. Para ello calcularemos su derivada, de modo que: "
   ]
  },
  {
   "cell_type": "markdown",
   "id": "8b346523",
   "metadata": {},
   "source": [
    "$$x_{max}=\\frac{2v^{2}_{0}sen\n",
    "\\theta cos\\theta}{g} \\Rightarrow x'_{max}=\\frac{2v^{2}_{0}}{g} \\cdot \\frac{d}{d \\theta}(sen\n",
    "\\theta cos\\theta)$$"
   ]
  },
  {
   "cell_type": "markdown",
   "id": "f02a23d3",
   "metadata": {},
   "source": [
    "$$\\therefore x'_{max}=\\frac{2v^{2}_{0}}{g}  (-sen^2 \\theta + cos^2 \\theta)$$"
   ]
  },
  {
   "cell_type": "markdown",
   "id": "15ccdaf7",
   "metadata": {},
   "source": [
    "Ahora bien, sabemos que este máximo se dará a lugar cuando $x'_{max}=0$, ya que la inclinación de su pendiente será nula. Entonces:"
   ]
  },
  {
   "cell_type": "markdown",
   "id": "ec4ac1f6",
   "metadata": {},
   "source": [
    "$$x'_{max}=\\frac{2v^{2}_{0}}{g}  (-sen^2 \\theta + cos^2 \\theta)=0 \\Rightarrow -sen^2\\theta+cos^2\\theta=0$$"
   ]
  },
  {
   "cell_type": "markdown",
   "id": "59f09226",
   "metadata": {},
   "source": [
    "Sumando $-sen^2\\theta$ en ambos lados de la ecuación:"
   ]
  },
  {
   "cell_type": "markdown",
   "id": "20d27b57",
   "metadata": {},
   "source": [
    "$$cos^2\\theta=sen^2\\theta$$"
   ]
  },
  {
   "cell_type": "markdown",
   "id": "0eeccba4",
   "metadata": {},
   "source": [
    "Dividimos ambos lados por $cos^2\\theta$:"
   ]
  },
  {
   "cell_type": "markdown",
   "id": "78c61a30",
   "metadata": {},
   "source": [
    "$$\\frac{cos^2\\theta}{cos^2\\theta}=\\frac{sen^2\\theta}{cos^2\\theta} \\Rightarrow \\frac{sen^2\\theta}{cos^2\\theta}=1$$"
   ]
  },
  {
   "cell_type": "markdown",
   "id": "d8fe73f3",
   "metadata": {},
   "source": [
    "Elevamos ambos términos al cuadrado y utilizamos la identidad trigonométrica $tan\\theta$ equivalente a la expresión dentro del paréntesis:"
   ]
  },
  {
   "cell_type": "markdown",
   "id": "a04724e2",
   "metadata": {},
   "source": [
    "$$\\left(\\frac{sen^2\\theta}{cos^2\\theta}\\right)^2=1^2 \\Rightarrow tan\\theta=1$$"
   ]
  },
  {
   "cell_type": "markdown",
   "id": "707fe49c",
   "metadata": {},
   "source": [
    "Ahora podemos despejar $\\theta$ utilizando $arctan\\theta$:"
   ]
  },
  {
   "cell_type": "markdown",
   "id": "511bd809",
   "metadata": {},
   "source": [
    "$$arctan(1)=\\theta$$"
   ]
  },
  {
   "cell_type": "markdown",
   "id": "e0046e87",
   "metadata": {},
   "source": [
    "$$\\therefore \\theta=45^\\circ$$"
   ]
  },
  {
   "cell_type": "markdown",
   "id": "32d29f3d",
   "metadata": {},
   "source": [
    "Dado que, de acuerdo al razonamiento anterior, cuando $\\theta=45^\\circ$ se alcanza el mayor alcance posible con una velocidad fija. Por lo tanto, la gráfica esperada es:"
   ]
  },
  {
   "cell_type": "markdown",
   "id": "0a1629c2",
   "metadata": {},
   "source": [
    "![grafica_esperada](grafica2.png)\n"
   ]
  },
  {
   "cell_type": "markdown",
   "id": "55fdb3e1",
   "metadata": {},
   "source": [
    "Nota: para este gráfico se utilizó una velocidad incial arbitraria: $v_0=38.5m/s$"
   ]
  },
  {
   "cell_type": "markdown",
   "id": "dc9c068d",
   "metadata": {},
   "source": []
  },
  {
   "cell_type": "markdown",
   "id": "bc6d836b",
   "metadata": {},
   "source": [
    "### **Metodología**"
   ]
  },
  {
   "cell_type": "markdown",
   "id": "e421ca7e",
   "metadata": {},
   "source": [
    "Antes de concluir el experimento, existieron algunos requerimientos: contar con una computadora, librerías de Python y Jupyter Notebook instalados y múltiples libros que utilizamos como fuentes bibliográficas. Este experimento fue realizado a partir de una simulación en Python, utilizando las librerías de de matemáticas y graficación. "
   ]
  },
  {
   "cell_type": "markdown",
   "id": "09c14011",
   "metadata": {},
   "source": [
    "Materiales:\n",
    "\n",
    "- Una computadora con Ubuntu 20.04.\n",
    "- Python 3.8 instalado.\n",
    "- Jupyter Notebook. \n",
    "- Diversas librerías (math, matplotlib, numpy, pandas)."
   ]
  },
  {
   "cell_type": "markdown",
   "id": "4b534552",
   "metadata": {},
   "source": [
    "Posteriormente, para realizar nuestra simulación escribimos un pequeño programa que itera entre el rango de ángulos previamente establecido; esto es el equivalente a lanzar un proyectil $n$ veces con las condiciones arbitrarias deseadas. Para ello, importamos las siguientes librerías: "
   ]
  },
  {
   "cell_type": "code",
   "execution_count": 9,
   "id": "e87b54a3",
   "metadata": {},
   "outputs": [],
   "source": [
    "import numpy as np\n",
    "import matplotlib.pyplot as plt\n",
    "import math\n",
    "import pandas as pd"
   ]
  },
  {
   "cell_type": "markdown",
   "id": "c5742bac",
   "metadata": {},
   "source": [
    "Posteriormente establecemos el valor de nuestras constantes (como la aceleración de la gravedad) y condiciones iniciales arbitrarias: "
   ]
  },
  {
   "cell_type": "code",
   "execution_count": 15,
   "id": "14387921",
   "metadata": {},
   "outputs": [],
   "source": [
    "#Variables constantes y listas\n",
    "v = 38.5\n",
    "g = 9.80665\n",
    "theta = 0"
   ]
  },
  {
   "cell_type": "markdown",
   "id": "fb091e2f",
   "metadata": {},
   "source": [
    "Junto con los arreglos que almacenarán los resultados de nuestra simulación:"
   ]
  },
  {
   "cell_type": "code",
   "execution_count": 16,
   "id": "1b34e355",
   "metadata": {},
   "outputs": [],
   "source": [
    "theta_lista = []\n",
    "xmax_lista = []\n",
    "resultado = 0"
   ]
  },
  {
   "cell_type": "markdown",
   "id": "e4c45534",
   "metadata": {},
   "source": [
    "Ahora bien, es momento de crear una función que reciba como parámetros nuestra constante y condiciones iniciales, que serán evaluadas en nuestra ecuación $x_{max}$, para que posteriormente esta retorne el valor de dicha ecuación. De modo que: "
   ]
  },
  {
   "cell_type": "code",
   "execution_count": 10,
   "id": "69e50ebe",
   "metadata": {},
   "outputs": [],
   "source": [
    "def x_max(v, theta, g):\n",
    "    ecuacion = (np.sin(np.deg2rad(2 * theta)) * v ** 2)/ (g) \n",
    "    return ecuacion"
   ]
  },
  {
   "cell_type": "markdown",
   "id": "b841a8aa",
   "metadata": {},
   "source": [
    "Por último, añadimos el siguiente bloque que se encargará de iterar $0^\\circ<\\theta<90^\\circ$, que proporcionará los datos para nuestra gráfica de **alcance contra ángulo**:"
   ]
  },
  {
   "cell_type": "code",
   "execution_count": 11,
   "id": "8b66fbd7",
   "metadata": {},
   "outputs": [],
   "source": [
    "while theta < 90:\n",
    "    resultado = x_max(v, theta, g)\n",
    "    xmax_lista.append(resultado)\n",
    "    theta_lista.append(theta)\n",
    "    theta += 1"
   ]
  },
  {
   "cell_type": "markdown",
   "id": "d43eed92",
   "metadata": {},
   "source": [
    "Además, el bloque anterior guardará cada ángulo, junto con su distancia correspondiente, en los arreglos previamente señalados. Ahora bien, como recurso de apoyo, utilizamos el siguiente programa para visualizar la **trayectoria** de cada proyectil:"
   ]
  },
  {
   "cell_type": "markdown",
   "id": "1e08067e",
   "metadata": {},
   "source": [
    "```python\n",
    "# theta=pi/3\n",
    "V = 38.5 \n",
    "t = np.arange(0, 100, 0.1)\n",
    "angulo = math.pi / 12\n",
    "angulo_lista = []\n",
    "\n",
    "while angulo < math.pi / 2:\n",
    "    x = V * np.cos(angulo) * t\n",
    "    y = V * np.sin(angulo) * t + (0.5 * -9.80665 * t ** 2)\n",
    "    plt.ylim(0, 80)\n",
    "    plt.xlim(0, 170)\n",
    "    plt.plot(x, y)\n",
    "    zero_crossing_idx = np.argwhere(y > 0)[-1]\n",
    "    angulo_lista.append(rf'{np.rad2deg(angulo):.0f}$\\degree$')\n",
    "    angulo += math.pi / 12\n",
    "\n",
    "plt.xlabel(\"Alcance\")\n",
    "plt.ylabel(\"Altura\")\n",
    "plt.title('Trayectoria de proyectiles con múltiples ángulos')\n",
    "plt.legend(angulo_lista)\n",
    "plt.show()\n",
    "```\n",
    "                       "
   ]
  },
  {
   "cell_type": "markdown",
   "id": "72ec80ad",
   "metadata": {},
   "source": []
  },
  {
   "cell_type": "markdown",
   "id": "93564209",
   "metadata": {},
   "source": [
    "### **Resultados**"
   ]
  },
  {
   "cell_type": "code",
   "execution_count": 12,
   "id": "87d51dbe",
   "metadata": {},
   "outputs": [
    {
     "data": {
      "text/html": [
       "<div>\n",
       "<style scoped>\n",
       "    .dataframe tbody tr th:only-of-type {\n",
       "        vertical-align: middle;\n",
       "    }\n",
       "\n",
       "    .dataframe tbody tr th {\n",
       "        vertical-align: top;\n",
       "    }\n",
       "\n",
       "    .dataframe thead th {\n",
       "        text-align: right;\n",
       "    }\n",
       "</style>\n",
       "<table border=\"1\" class=\"dataframe\">\n",
       "  <thead>\n",
       "    <tr style=\"text-align: right;\">\n",
       "      <th></th>\n",
       "      <th>Ángulo</th>\n",
       "      <th>Alcance</th>\n",
       "    </tr>\n",
       "  </thead>\n",
       "  <tbody>\n",
       "    <tr>\n",
       "      <th>0</th>\n",
       "      <td>0</td>\n",
       "      <td>0.000000</td>\n",
       "    </tr>\n",
       "    <tr>\n",
       "      <th>1</th>\n",
       "      <td>1</td>\n",
       "      <td>5.274969</td>\n",
       "    </tr>\n",
       "    <tr>\n",
       "      <th>2</th>\n",
       "      <td>2</td>\n",
       "      <td>10.543512</td>\n",
       "    </tr>\n",
       "    <tr>\n",
       "      <th>3</th>\n",
       "      <td>3</td>\n",
       "      <td>15.799209</td>\n",
       "    </tr>\n",
       "    <tr>\n",
       "      <th>4</th>\n",
       "      <td>4</td>\n",
       "      <td>21.035657</td>\n",
       "    </tr>\n",
       "    <tr>\n",
       "      <th>...</th>\n",
       "      <td>...</td>\n",
       "      <td>...</td>\n",
       "    </tr>\n",
       "    <tr>\n",
       "      <th>85</th>\n",
       "      <td>85</td>\n",
       "      <td>26.246477</td>\n",
       "    </tr>\n",
       "    <tr>\n",
       "      <th>86</th>\n",
       "      <td>86</td>\n",
       "      <td>21.035657</td>\n",
       "    </tr>\n",
       "    <tr>\n",
       "      <th>87</th>\n",
       "      <td>87</td>\n",
       "      <td>15.799209</td>\n",
       "    </tr>\n",
       "    <tr>\n",
       "      <th>88</th>\n",
       "      <td>88</td>\n",
       "      <td>10.543512</td>\n",
       "    </tr>\n",
       "    <tr>\n",
       "      <th>89</th>\n",
       "      <td>89</td>\n",
       "      <td>5.274969</td>\n",
       "    </tr>\n",
       "  </tbody>\n",
       "</table>\n",
       "<p>90 rows × 2 columns</p>\n",
       "</div>"
      ],
      "text/plain": [
       "    Ángulo    Alcance\n",
       "0        0   0.000000\n",
       "1        1   5.274969\n",
       "2        2  10.543512\n",
       "3        3  15.799209\n",
       "4        4  21.035657\n",
       "..     ...        ...\n",
       "85      85  26.246477\n",
       "86      86  21.035657\n",
       "87      87  15.799209\n",
       "88      88  10.543512\n",
       "89      89   5.274969\n",
       "\n",
       "[90 rows x 2 columns]"
      ]
     },
     "execution_count": 12,
     "metadata": {},
     "output_type": "execute_result"
    }
   ],
   "source": [
    "df = pd.DataFrame({'Ángulo':theta_lista, 'Alcance':xmax_lista})\n",
    "df"
   ]
  },
  {
   "cell_type": "code",
   "execution_count": 13,
   "id": "bd12058a",
   "metadata": {},
   "outputs": [
    {
     "data": {
      "text/plain": [
       "<AxesSubplot:xlabel='Ángulo', ylabel='Alcance'>"
      ]
     },
     "execution_count": 13,
     "metadata": {},
     "output_type": "execute_result"
    },
    {
     "data": {
      "image/png": "[encoded data removed]",
      "text/plain": [
       "<Figure size 432x288 with 1 Axes>"
      ]
     },
     "metadata": {
      "needs_background": "light"
     },
     "output_type": "display_data"
    }
   ],
   "source": [
    "df.plot('Ángulo', 'Alcance', kind='scatter')"
   ]
  },
  {
   "cell_type": "code",
   "execution_count": 21,
   "id": "274fba83",
   "metadata": {},
   "outputs": [
    {
     "data": {
      "image/png": "[encoded data removed]",
      "text/plain": [
       "<Figure size 432x288 with 1 Axes>"
      ]
     },
     "metadata": {
      "needs_background": "light"
     },
     "output_type": "display_data"
    }
   ],
   "source": [
    "# theta=pi/3\n",
    "V = 38.5 \n",
    "t = np.arange(0, 100, 0.1)\n",
    "angulo = math.pi / 12\n",
    "angulo_lista = []\n",
    "\n",
    "while angulo < math.pi / 2:\n",
    "    x = V * np.cos(angulo) * t\n",
    "    y = V * np.sin(angulo) * t + (0.5 * -9.80665 * t ** 2)\n",
    "    plt.ylim(0, 80)\n",
    "    plt.xlim(0, 170)\n",
    "    plt.plot(x, y)\n",
    "    zero_crossing_idx = np.argwhere(y > 0)[-1]\n",
    "    angulo_lista.append(rf'{np.rad2deg(angulo):.0f}$\\degree$')\n",
    "    angulo += math.pi / 12\n",
    "\n",
    "plt.xlabel(\"Alcance\")\n",
    "plt.ylabel(\"Altura\")\n",
    "plt.title('Trayectoria de proyectiles con múltiples ángulos (iteración en radianes)')\n",
    "plt.legend(angulo_lista)\n",
    "plt.show()"
   ]
  },
  {
   "cell_type": "markdown",
   "id": "9b42b29e",
   "metadata": {},
   "source": []
  },
  {
   "cell_type": "markdown",
   "id": "486323db",
   "metadata": {},
   "source": [
    "### **Análisis**"
   ]
  },
  {
   "cell_type": "markdown",
   "id": "ad87460d",
   "metadata": {},
   "source": [
    "Ahora bien, para verificar que nuestra hipótesis inicial sea correcta, vamos a buscar cuál es la posición del resultado máximo dentro de nuestro *dataframe*. La siguiente linea de código recoge el *id* de los valores máximos de cada columna (ángulo, alcance):\n"
   ]
  },
  {
   "cell_type": "code",
   "execution_count": 22,
   "id": "3fbdd58e",
   "metadata": {},
   "outputs": [
    {
     "data": {
      "text/plain": [
       "Ángulo     89\n",
       "Alcance    45\n",
       "dtype: int64"
      ]
     },
     "execution_count": 22,
     "metadata": {},
     "output_type": "execute_result"
    }
   ],
   "source": [
    "df.idxmax(axis=0)"
   ]
  },
  {
   "cell_type": "markdown",
   "id": "5db7c78b",
   "metadata": {},
   "source": [
    "Como se puede observar, el alcance máximo corresponde a la fila #45, misma que corresponde a $\\theta=45^\\circ$. Al ejecutar la siguiente línea de código, podemos obtener el **valor** que corresponde a dicha posición:"
   ]
  },
  {
   "cell_type": "markdown",
   "id": "17e29e77",
   "metadata": {},
   "source": []
  },
  {
   "cell_type": "code",
   "execution_count": 23,
   "id": "4d3e5a1d",
   "metadata": {},
   "outputs": [
    {
     "data": {
      "text/plain": [
       "Ángulo      89.000000\n",
       "Alcance    151.147436\n",
       "dtype: float64"
      ]
     },
     "execution_count": 23,
     "metadata": {},
     "output_type": "execute_result"
    }
   ],
   "source": [
    "df.max(axis=0)"
   ]
  },
  {
   "cell_type": "markdown",
   "id": "a8d57856",
   "metadata": {},
   "source": [
    "Es decir, cuando:"
   ]
  },
  {
   "cell_type": "markdown",
   "id": "9724aa9d",
   "metadata": {},
   "source": [
    " $$\\theta=45^\\circ \\rightarrow x_{max}=151.147$$"
   ]
  },
  {
   "cell_type": "markdown",
   "id": "b1cfb755",
   "metadata": {},
   "source": [
    "El cual es el valor máximo obtenido de nuestra simulación."
   ]
  },
  {
   "cell_type": "markdown",
   "id": "c361032b",
   "metadata": {},
   "source": []
  },
  {
   "cell_type": "markdown",
   "id": "0cca716f",
   "metadata": {},
   "source": [
    "### **Conclusión**"
   ]
  },
  {
   "cell_type": "markdown",
   "id": "4239f7ac",
   "metadata": {},
   "source": [
    "Por lo tanto, nuestra hipótesis inicial"
   ]
  },
  {
   "cell_type": "markdown",
   "id": "15e1bd86",
   "metadata": {},
   "source": [
    "$$x'_{max}=\\frac{2v^{2}_{0}}{g}(-sen^2 \\theta + cos^2 \\theta) \\hspace{5mm} \\rightarrow \\hspace{5mm} \\theta=45^\\circ$$"
   ]
  },
  {
   "cell_type": "markdown",
   "id": "ce1b23e8",
   "metadata": {},
   "source": [
    "Es correcta para todo ángulo $\\theta$; **es posible derivar una expresión matemática en donde el proyectil alcance su distancia horizontal máxima**."
   ]
  },
  {
   "cell_type": "markdown",
   "id": "0a65efa4",
   "metadata": {},
   "source": []
  },
  {
   "cell_type": "markdown",
   "id": "c1e8e476",
   "metadata": {},
   "source": [
    "### **Bibliografía**"
   ]
  },
  {
   "cell_type": "markdown",
   "id": "f4c809f1",
   "metadata": {},
   "source": [
    "- Serway, R. A., Jewett, J. W., &amp; Peroomian Vahé. (2019). Physics for scientists and engineers (7th ed., Vol. 1). Cengage. \n",
    "- Brandon Leonard. (2021, June 21). Python in the modeling of Projectile Motion. Assignment Help Blog. Retrieved November 19, 2021, from https://www.assignmentexpert.com/blog/modeling-projectile-motion-using-python/. "
   ]
  }
 ],
 "metadata": {
  "kernelspec": {
   "display_name": "Python 3 (ipykernel)",
   "language": "python",
   "name": "python3"
  },
  "language_info": {
   "codemirror_mode": {
    "name": "ipython",
    "version": 3
   },
   "file_extension": ".py",
   "mimetype": "text/x-python",
   "name": "python",
   "nbconvert_exporter": "python",
   "pygments_lexer": "ipython3",
   "version": "3.8.10"
  }
 },
 "nbformat": 4,
 "nbformat_minor": 5
}
